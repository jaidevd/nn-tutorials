{
 "cells": [
  {
   "cell_type": "markdown",
   "metadata": {},
   "source": [
    "# Backpropagation\n",
    "```\n",
    "----------------------------------------------------------------------\n",
    "Filename : backpropagation.ipynb\n",
    "Author   : Jaidev Deshpande\n",
    "Purpose  : Training multilayer perceptrons with error backpropagation.\n",
    "Libraries: Tensorflow and its dependencies\n",
    "----------------------------------------------------------------------\n",
    "```"
   ]
  },
  {
   "cell_type": "code",
   "execution_count": null,
   "metadata": {
    "collapsed": false,
    "jupyter": {
     "outputs_hidden": false
    }
   },
   "outputs": [],
   "source": [
    "from IPython.display import Image\n",
    "Image(\"mlp.png\", height=200, width=600)"
   ]
  },
  {
   "cell_type": "markdown",
   "metadata": {},
   "source": [
    "# Variables & Terminology\n",
    "* ## $W_{i}$ - weights of the $i$th layer\n",
    "* ## $B_{i}$ - biases of the $i$th layer\n",
    "* ## $L_{a}^{i}$ - _activation_ (Inner product of weights and inputs of previous layer) of the $i$th layer.\n",
    "* ## $L_{o}^{i}$ - _output_ of the $i$th layer. (This is $f(L_{a}^{i})$, where $f$ is the activation function)\n",
    "\n",
    "# MLP with one input, one hidden, one output layer\n",
    "* ## $X, y$ are the training samples\n",
    "* ## $\\mathbf{W_{1}}$ and $\\mathbf{W_{2}}$ are the weights for first (hidden) and the second (output) layer.\n",
    "* ## $\\mathbf{B_{1}}$ and $\\mathbf{B_{2}}$ are the biases for first (hidden) and the second (output) layer.\n",
    "* ## $L_{a}^{0} = L_{o}^{0}$, since the first (zeroth) layers is just the input.\n",
    "\n",
    "# Activations and outputs\n",
    "* ## $L_{a}^{1} = X\\mathbf{W_{1}} + \\mathbf{B_{1}}$\n",
    "* ## $L_{o}^{1} = \\frac{1}{1 + e^{-L_{a}^{1}}}$\n",
    "* ## $L_{a}^{2} = L_{o}^{1}\\mathbf{W_{2}} + \\mathbf{B_{2}}$\n",
    "* ## $L_{o}^{2} = \\frac{1}{1 + e^{-L_{a}^{2}}}$\n",
    "* ## Loss $E = \\frac{1}{2} \\sum_{S}(y - L_{o}^{2})^{2}$"
   ]
  },
  {
   "cell_type": "code",
   "execution_count": null,
   "metadata": {},
   "outputs": [],
   "source": [
    "import numpy as np\n",
    "from utils import backprop_decision_boundary, backprop_make_classification, backprop_make_moons\n",
    "from sklearn.metrics import accuracy_score\n",
    "import tensorflow as tf\n",
    "import matplotlib.pyplot as plt\n",
    "plt.style.use('ggplot')\n",
    "plt.rc('figure', figsize=(8, 6))\n",
    "%matplotlib inline"
   ]
  },
  {
   "cell_type": "code",
   "execution_count": null,
   "metadata": {},
   "outputs": [],
   "source": [
    "# make dummy data\n",
    "X, Y = backprop_make_classification()\n",
    "plt.scatter(*X.T, c=np.argmax(Y, axis=1).ravel())"
   ]
  },
  {
   "cell_type": "markdown",
   "metadata": {},
   "source": [
    "## Forward Pass"
   ]
  },
  {
   "cell_type": "code",
   "execution_count": null,
   "metadata": {
    "collapsed": false,
    "jupyter": {
     "outputs_hidden": false
    }
   },
   "outputs": [],
   "source": [
    "x = tf.constant(X, dtype='float32')\n",
    "y = tf.constant(Y, dtype='float32')\n",
    "\n",
    "# weights and biases\n",
    "w1 = tf.random.uniform((2, 3))\n",
    "b1 = tf.random.uniform((1, 3))\n",
    "w2 = tf.random.uniform((3, 2))\n",
    "b2 = tf.random.uniform((1, 2))\n",
    "\n",
    "def predict(x, w1, b1, w2, b2):\n",
    "    l1_activation = tf.tensordot(x, w1, 1) + b1\n",
    "    l1_output = 1.0 / (1 + tf.exp(-l1_activation))\n",
    "    l2_activation = tf.tensordot(l1_output, w2, 1) + b2\n",
    "    l2_output = 1.0 / (1 + tf.exp(-l2_activation))\n",
    "    return l2_output"
   ]
  },
  {
   "cell_type": "code",
   "execution_count": null,
   "metadata": {},
   "outputs": [],
   "source": [
    "preds = predict(x, w1, b1, w2, b2)\n",
    "p = tf.argmax(preds, axis=1)\n",
    "plt.scatter(*X.T, c=p.numpy())"
   ]
  },
  {
   "cell_type": "markdown",
   "metadata": {},
   "source": [
    "## Backpropagation"
   ]
  },
  {
   "cell_type": "code",
   "execution_count": null,
   "metadata": {},
   "outputs": [],
   "source": [
    "for i in range(500):\n",
    "    with tf.GradientTape() as g:\n",
    "        g.watch(w1)\n",
    "        g.watch(w2)\n",
    "        g.watch(b1)\n",
    "        g.watch(b2)\n",
    "        \n",
    "        prediction = predict(x, w1, b1, w2, b2)\n",
    "\n",
    "        # losses and gradients\n",
    "        loss = 0.5 * tf.reduce_sum(tf.pow(y - prediction, 2))\n",
    "    if i % 100 == 0:\n",
    "        print(loss.numpy())\n",
    "    gw1, gb1, gw2, gb2 = g.gradient(loss, [w1, b1, w2, b2])\n",
    "    \n",
    "    # Gradient descent:\n",
    "    w1 -= 0.2 * gw1\n",
    "    b1 -= 0.2 * gb1\n",
    "    w2 -= 0.2 * gw2\n",
    "    b2 -= 0.2 * gb2"
   ]
  },
  {
   "cell_type": "code",
   "execution_count": null,
   "metadata": {},
   "outputs": [],
   "source": [
    "preds = predict(x, w1, b1, w2, b2)\n",
    "p = tf.argmax(preds, axis=1)\n",
    "print(preds[:5])\n",
    "plt.scatter(*X.T, c=p.numpy())"
   ]
  },
  {
   "cell_type": "code",
   "execution_count": null,
   "metadata": {
    "collapsed": false,
    "jupyter": {
     "outputs_hidden": false
    }
   },
   "outputs": [],
   "source": [
    "y_enc = np.argmax(Y, axis=1)\n",
    "x_min, x_max = X[:, 0].min() - 1, X[:, 0].max() + 1\n",
    "y_min, y_max = X[:, 1].min() - 1, X[:, 1].max() + 1\n",
    "xx, yy = np.meshgrid(np.arange(x_min, x_max, 0.1),\n",
    "                     np.arange(y_min, y_max, 0.1))\n",
    "Z = predict(tf.constant(np.c_[xx.ravel(), yy.ravel()], dtype='float32'),\n",
    "            w1, b1, w2, b2)\n",
    "Z = tf.argmax(Z, axis=1)\n",
    "Z = tf.reshape(Z, xx.shape)\n",
    "plt.contourf(xx, yy, Z.numpy(), alpha=0.4)\n",
    "plt.scatter(X[:, 0], X[:, 1], c=y_enc)"
   ]
  },
  {
   "cell_type": "markdown",
   "metadata": {},
   "source": [
    "# Exercise: Implement an MLP with two hidden layers, for the following dataset"
   ]
  },
  {
   "cell_type": "code",
   "execution_count": null,
   "metadata": {
    "collapsed": false,
    "jupyter": {
     "outputs_hidden": false
    }
   },
   "outputs": [],
   "source": [
    "X, Y = backprop_make_moons()\n",
    "plt.scatter(X[:, 0], X[:, 1], c=np.argmax(Y, axis=1))"
   ]
  },
  {
   "cell_type": "markdown",
   "metadata": {},
   "source": [
    "### Hints:\n",
    "1. Use two hidden layers, one containing 3 and the other containing 4 neurons\n",
    "2. Use learning rate $\\alpha$ = 0.2\n",
    "3. Try to make the network converge in 1000 iterations "
   ]
  },
  {
   "cell_type": "code",
   "execution_count": null,
   "metadata": {},
   "outputs": [],
   "source": [
    "# enter code here"
   ]
  },
  {
   "cell_type": "markdown",
   "metadata": {},
   "source": [
    "### Tips & Tricks for backprogation:\n",
    "[Efficient BackProp, LeCun et al](http://yann.lecun.com/exdb/publis/pdf/lecun-98b.pdf)"
   ]
  }
 ],
 "metadata": {
  "anaconda-cloud": {},
  "kernelspec": {
   "display_name": "Python 3",
   "language": "python",
   "name": "python3"
  },
  "language_info": {
   "codemirror_mode": {
    "name": "ipython",
    "version": 3
   },
   "file_extension": ".py",
   "mimetype": "text/x-python",
   "name": "python",
   "nbconvert_exporter": "python",
   "pygments_lexer": "ipython3",
   "version": "3.7.3"
  }
 },
 "nbformat": 4,
 "nbformat_minor": 4
}
