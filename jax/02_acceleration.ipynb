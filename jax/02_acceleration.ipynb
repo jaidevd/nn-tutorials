{
 "cells": [
  {
   "cell_type": "markdown",
   "id": "2f535548-8027-44d4-a585-789067325ef4",
   "metadata": {},
   "source": [
    "# K-Nearest Neighbour Classification"
   ]
  },
  {
   "cell_type": "code",
   "execution_count": null,
   "id": "26019ce2-21d3-474d-b3d3-cde3b6c833fb",
   "metadata": {},
   "outputs": [],
   "source": [
    "import jax\n",
    "import numpy as np\n",
    "from sklearn.datasets import load_digits\n",
    "from sklearn.metrics import accuracy_score\n",
    "from sklearn.model_selection import train_test_split, StratifiedKFold\n",
    "from scipy.stats import mode\n",
    "import pandas as pd\n",
    "import matplotlib.pyplot as plt\n",
    "\n",
    "jnp = jax.numpy"
   ]
  },
  {
   "cell_type": "code",
   "execution_count": null,
   "id": "e29e36b5-2b48-46f0-9ac3-dc8280257a44",
   "metadata": {},
   "outputs": [],
   "source": [
    "X, y = load_digits(return_X_y=True)\n",
    "fig, ax = plt.subplots(nrows=5, ncols=5, figsize=(5, 5))\n",
    "ax = ax.ravel()\n",
    "ix = np.random.choice(np.arange(X.shape[0]), size=(25,))\n",
    "for i, (image, label) in enumerate(zip(X[ix], y[ix])):\n",
    "    ax[i].imshow(image.reshape(8, 8), cmap=plt.cm.gray)\n",
    "_ = [k.set_axis_off() for k in ax]"
   ]
  },
  {
   "cell_type": "markdown",
   "id": "241db927-8fb3-4642-8bd9-139e7a60c2d3",
   "metadata": {},
   "source": [
    "## How does a KNN classifier work?"
   ]
  },
  {
   "cell_type": "code",
   "execution_count": null,
   "id": "305bf8e9-3187-41ce-aed8-a60deb45878a",
   "metadata": {},
   "outputs": [],
   "source": [
    "def np_predict(x_test, X, y, k=5):\n",
    "    diff = x_test[:, None, :] - X[None, :, :]\n",
    "    distance = np.sum(diff ** 2, axis=-1)\n",
    "    closest = np.argsort(distance, axis=1)[:, :k]\n",
    "    return mode(y[closest], axis=1).mode.ravel()"
   ]
  },
  {
   "cell_type": "markdown",
   "id": "e0acacb8-3a9a-4b90-8276-619dc4ee88ed",
   "metadata": {},
   "source": [
    "### Doing a quick test"
   ]
  },
  {
   "cell_type": "code",
   "execution_count": null,
   "id": "10518f42-344a-4b5f-bfe4-f76422a7ecc9",
   "metadata": {},
   "outputs": [],
   "source": [
    "from sklearn.model_selection import StratifiedKFold\n",
    "import pandas as pd\n",
    "from sklearn.metrics import f1_score"
   ]
  },
  {
   "cell_type": "code",
   "execution_count": null,
   "id": "827d3c9f-b21a-454e-8642-7e2ea9321c73",
   "metadata": {},
   "outputs": [],
   "source": [
    "X, y = load_digits(return_X_y=True)\n",
    "\n",
    "for trix, tsix in StratifiedKFold(n_splits=5).split(X, y):\n",
    "    xtrain, xtest = X[trix], X[tsix]\n",
    "    ytrain, ytest = y[trix], y[tsix]\n",
    "    \n",
    "    y_pred = np_predict(xtest, xtrain, ytrain)\n",
    "    print(accuracy_score(ytest, y_pred))"
   ]
  },
  {
   "cell_type": "code",
   "execution_count": null,
   "id": "6d9bc9a8-a831-435d-b661-a87d19d17260",
   "metadata": {},
   "outputs": [],
   "source": [
    "# Too good to be true?\n",
    "pd.Series(y).value_counts(normalize=True)"
   ]
  },
  {
   "cell_type": "code",
   "execution_count": null,
   "id": "4e8ea85a-6bc9-4e47-8b99-498b11bc206a",
   "metadata": {},
   "outputs": [],
   "source": [
    "# Let's do a better test\n",
    "for trix, tsix in StratifiedKFold(n_splits=5).split(X, y):\n",
    "    xtrain, xtest = X[trix], X[tsix]\n",
    "    ytrain, ytest = y[trix], y[tsix]\n",
    "    \n",
    "    y_pred = np_predict(xtest, xtrain, ytrain)\n",
    "    print(f1_score(ytest, y_pred, average='micro'))"
   ]
  },
  {
   "cell_type": "markdown",
   "id": "9a4aa9a2-d13c-49b8-80e7-88d69650d96d",
   "metadata": {},
   "source": [
    "## Time performance of the classifier"
   ]
  },
  {
   "cell_type": "code",
   "execution_count": null,
   "id": "a53a6428-846a-4cf8-bb6f-643988b5c2ab",
   "metadata": {},
   "outputs": [],
   "source": [
    "xtrain, xtest, ytrain, ytest = train_test_split(X, y, train_size=1200, stratify=y, random_state=42)"
   ]
  },
  {
   "cell_type": "code",
   "execution_count": null,
   "id": "d76d5eb7-7f16-4472-8ed1-899c55f42ac9",
   "metadata": {},
   "outputs": [],
   "source": [
    "%%timeit\n",
    "ypred = np_predict(xtest, xtrain, ytrain)"
   ]
  },
  {
   "cell_type": "markdown",
   "id": "36e21d75-b17e-40b9-898f-e101342145cd",
   "metadata": {},
   "source": [
    "## Acceleration with Jax"
   ]
  },
  {
   "cell_type": "code",
   "execution_count": null,
   "id": "d61b61e7-0688-498c-b838-c146cc0b200d",
   "metadata": {},
   "outputs": [],
   "source": [
    "X, y = load_digits(return_X_y=True)\n",
    "xtrain, xtest, ytrain, ytest = train_test_split(X, y, train_size=1200, stratify=y, random_state=42)\n",
    "\n",
    "xtrain, ytrain, xtest, ytest = map(jnp.array, (xtrain, ytrain, xtest, ytest))\n",
    "\n",
    "\n",
    "def jax_predict(x_test, X, y, k=5):\n",
    "    diff = x_test[:, None, :] - X[None, :, :]\n",
    "    distance = jnp.sum(diff ** 2, axis=-1)\n",
    "    closest = jnp.argsort(distance, axis=1)[:, :k]\n",
    "    \n",
    "    def _mode(x):\n",
    "        un, counts = jnp.unique(x, return_counts=True, size=x.size)\n",
    "        return un[counts.argmax()]\n",
    "    \n",
    "    return jax.vmap(_mode, 0)(closest)"
   ]
  },
  {
   "cell_type": "code",
   "execution_count": null,
   "id": "5cdd70d1-282f-478d-9f8e-46140353de8e",
   "metadata": {},
   "outputs": [],
   "source": [
    "%%timeit\n",
    "jax_predict(xtest, xtrain, ytrain)"
   ]
  },
  {
   "cell_type": "code",
   "execution_count": null,
   "id": "1a15f593-278f-4460-a6b0-1b890cf3f742",
   "metadata": {},
   "outputs": [],
   "source": [
    "jitted = jax.jit(jax_predict)"
   ]
  },
  {
   "cell_type": "code",
   "execution_count": null,
   "id": "f7abc017-a5a1-4a7f-ba7e-72fc15b67f39",
   "metadata": {},
   "outputs": [],
   "source": [
    "%%timeit\n",
    "jitted(xtest, xtrain, ytrain)"
   ]
  }
 ],
 "metadata": {
  "kernelspec": {
   "display_name": "Python 3 (ipykernel)",
   "language": "python",
   "name": "python3"
  },
  "language_info": {
   "codemirror_mode": {
    "name": "ipython",
    "version": 3
   },
   "file_extension": ".py",
   "mimetype": "text/x-python",
   "name": "python",
   "nbconvert_exporter": "python",
   "pygments_lexer": "ipython3",
   "version": "3.9.12"
  }
 },
 "nbformat": 4,
 "nbformat_minor": 5
}
